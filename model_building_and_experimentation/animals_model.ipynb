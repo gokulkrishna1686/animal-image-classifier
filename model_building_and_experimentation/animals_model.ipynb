{
 "cells": [
  {
   "cell_type": "code",
   "execution_count": 21,
   "metadata": {
    "execution": {
     "iopub.execute_input": "2025-06-27T07:50:09.953800Z",
     "iopub.status.busy": "2025-06-27T07:50:09.953514Z",
     "iopub.status.idle": "2025-06-27T07:50:10.092674Z",
     "shell.execute_reply": "2025-06-27T07:50:10.092076Z",
     "shell.execute_reply.started": "2025-06-27T07:50:09.953780Z"
    },
    "trusted": true
   },
   "outputs": [
    {
     "name": "stdout",
     "output_type": "stream",
     "text": [
      "Path to dataset files: /kaggle/input/animal-image-dataset-90-different-animals\n"
     ]
    }
   ],
   "source": [
    "import kagglehub\n",
    "import torch\n",
    "import torchvision\n",
    "\n",
    "# Download latest version\n",
    "path = kagglehub.dataset_download(\"iamsouravbanerjee/animal-image-dataset-90-different-animals\")\n",
    "\n",
    "print(\"Path to dataset files:\", path)"
   ]
  },
  {
   "cell_type": "code",
   "execution_count": 22,
   "metadata": {
    "execution": {
     "iopub.execute_input": "2025-06-27T07:50:10.094058Z",
     "iopub.status.busy": "2025-06-27T07:50:10.093661Z",
     "iopub.status.idle": "2025-06-27T07:50:10.098809Z",
     "shell.execute_reply": "2025-06-27T07:50:10.098227Z",
     "shell.execute_reply.started": "2025-06-27T07:50:10.094040Z"
    },
    "trusted": true
   },
   "outputs": [
    {
     "data": {
      "text/plain": [
       "(PosixPath('/kaggle/input/animal-image-dataset-90-different-animals'),\n",
       " pathlib.PosixPath)"
      ]
     },
     "execution_count": 22,
     "metadata": {},
     "output_type": "execute_result"
    }
   ],
   "source": [
    "from pathlib import Path\n",
    "path = Path(path)\n",
    "path, type(path)"
   ]
  },
  {
   "cell_type": "code",
   "execution_count": 23,
   "metadata": {
    "execution": {
     "iopub.execute_input": "2025-06-27T07:50:10.099724Z",
     "iopub.status.busy": "2025-06-27T07:50:10.099454Z",
     "iopub.status.idle": "2025-06-27T07:50:10.116125Z",
     "shell.execute_reply": "2025-06-27T07:50:10.115375Z",
     "shell.execute_reply.started": "2025-06-27T07:50:10.099700Z"
    },
    "trusted": true
   },
   "outputs": [
    {
     "data": {
      "text/plain": [
       "PosixPath('/kaggle/input/animal-image-dataset-90-different-animals/animals/animals')"
      ]
     },
     "execution_count": 23,
     "metadata": {},
     "output_type": "execute_result"
    }
   ],
   "source": [
    "data_dir = path / \"animals/animals\"\n",
    "data_dir"
   ]
  },
  {
   "cell_type": "code",
   "execution_count": 24,
   "metadata": {
    "execution": {
     "iopub.execute_input": "2025-06-27T07:50:10.117988Z",
     "iopub.status.busy": "2025-06-27T07:50:10.117775Z",
     "iopub.status.idle": "2025-06-27T07:50:10.129598Z",
     "shell.execute_reply": "2025-06-27T07:50:10.129007Z",
     "shell.execute_reply.started": "2025-06-27T07:50:10.117972Z"
    },
    "trusted": true
   },
   "outputs": [],
   "source": [
    "device = \"cuda\" if torch.cuda.is_available() else \"cpu\""
   ]
  },
  {
   "cell_type": "code",
   "execution_count": 25,
   "metadata": {
    "execution": {
     "iopub.execute_input": "2025-06-27T07:50:10.130513Z",
     "iopub.status.busy": "2025-06-27T07:50:10.130316Z",
     "iopub.status.idle": "2025-06-27T07:50:10.395678Z",
     "shell.execute_reply": "2025-06-27T07:50:10.395010Z",
     "shell.execute_reply.started": "2025-06-27T07:50:10.130490Z"
    },
    "trusted": true
   },
   "outputs": [
    {
     "name": "stdout",
     "output_type": "stream",
     "text": [
      "ImageClassification(\n",
      "    crop_size=[288]\n",
      "    resize_size=[288]\n",
      "    mean=[0.485, 0.456, 0.406]\n",
      "    std=[0.229, 0.224, 0.225]\n",
      "    interpolation=InterpolationMode.BICUBIC\n",
      ")\n"
     ]
    }
   ],
   "source": [
    "weights = torchvision.models.EfficientNet_B2_Weights.DEFAULT\n",
    "model = torchvision.models.efficientnet_b2(weights=weights).to(device)\n",
    "default_transform = weights.transforms()\n",
    "print(default_transform)"
   ]
  },
  {
   "cell_type": "code",
   "execution_count": 27,
   "metadata": {
    "execution": {
     "iopub.execute_input": "2025-06-27T07:50:10.400761Z",
     "iopub.status.busy": "2025-06-27T07:50:10.400599Z",
     "iopub.status.idle": "2025-06-27T07:50:12.671275Z",
     "shell.execute_reply": "2025-06-27T07:50:12.670513Z",
     "shell.execute_reply.started": "2025-06-27T07:50:10.400749Z"
    },
    "trusted": true
   },
   "outputs": [
    {
     "name": "stdout",
     "output_type": "stream",
     "text": [
      "Total number of images found: 5400\n",
      "Classes: ['antelope', 'badger', 'bat', 'bear', 'bee', 'beetle', 'bison', 'boar', 'butterfly', 'cat', 'caterpillar', 'chimpanzee', 'cockroach', 'cow', 'coyote', 'crab', 'crow', 'deer', 'dog', 'dolphin', 'donkey', 'dragonfly', 'duck', 'eagle', 'elephant', 'flamingo', 'fly', 'fox', 'goat', 'goldfish', 'goose', 'gorilla', 'grasshopper', 'hamster', 'hare', 'hedgehog', 'hippopotamus', 'hornbill', 'horse', 'hummingbird', 'hyena', 'jellyfish', 'kangaroo', 'koala', 'ladybugs', 'leopard', 'lion', 'lizard', 'lobster', 'mosquito', 'moth', 'mouse', 'octopus', 'okapi', 'orangutan', 'otter', 'owl', 'ox', 'oyster', 'panda', 'parrot', 'pelecaniformes', 'penguin', 'pig', 'pigeon', 'porcupine', 'possum', 'raccoon', 'rat', 'reindeer', 'rhinoceros', 'sandpiper', 'seahorse', 'seal', 'shark', 'sheep', 'snake', 'sparrow', 'squid', 'squirrel', 'starfish', 'swan', 'tiger', 'turkey', 'turtle', 'whale', 'wolf', 'wombat', 'woodpecker', 'zebra']\n"
     ]
    }
   ],
   "source": [
    "from torchvision import datasets\n",
    "full_dataset = datasets.ImageFolder(root=data_dir, transform=default_transform)\n",
    "print(f'Total number of images found: {len(full_dataset)}')\n",
    "print(f'Classes: {full_dataset.classes}')\n",
    "class_names = full_dataset.classes"
   ]
  },
  {
   "cell_type": "code",
   "execution_count": 28,
   "metadata": {
    "execution": {
     "iopub.execute_input": "2025-06-27T07:50:12.672338Z",
     "iopub.status.busy": "2025-06-27T07:50:12.672105Z",
     "iopub.status.idle": "2025-06-27T07:50:12.677689Z",
     "shell.execute_reply": "2025-06-27T07:50:12.676966Z",
     "shell.execute_reply.started": "2025-06-27T07:50:12.672321Z"
    },
    "trusted": true
   },
   "outputs": [
    {
     "name": "stdout",
     "output_type": "stream",
     "text": [
      "Train Size: 4590\n",
      "Test Size: 810\n"
     ]
    }
   ],
   "source": [
    "from torch.utils.data import random_split\n",
    "\n",
    "train_size = int(0.85 * len(full_dataset))\n",
    "test_size = len(full_dataset) - train_size\n",
    "train_data, test_data = random_split(full_dataset, [train_size, test_size])\n",
    "\n",
    "print(f'Train Size: {len(train_data)}')\n",
    "print(f'Test Size: {len(test_data)}')"
   ]
  },
  {
   "cell_type": "code",
   "execution_count": 29,
   "metadata": {
    "execution": {
     "iopub.execute_input": "2025-06-27T07:50:12.678611Z",
     "iopub.status.busy": "2025-06-27T07:50:12.678374Z",
     "iopub.status.idle": "2025-06-27T07:50:12.694105Z",
     "shell.execute_reply": "2025-06-27T07:50:12.693366Z",
     "shell.execute_reply.started": "2025-06-27T07:50:12.678596Z"
    },
    "trusted": true
   },
   "outputs": [
    {
     "data": {
      "text/plain": [
       "(144, 26)"
      ]
     },
     "execution_count": 29,
     "metadata": {},
     "output_type": "execute_result"
    }
   ],
   "source": [
    "from torch.utils.data import DataLoader\n",
    "import os\n",
    "\n",
    "BATCH_SIZE = 32\n",
    "NUM_WORKERS = os.cpu_count()\n",
    "\n",
    "train_dataloader = DataLoader(train_data, batch_size=BATCH_SIZE, shuffle=True, num_workers=NUM_WORKERS)\n",
    "test_dataloader = DataLoader(test_data, batch_size=BATCH_SIZE, shuffle=False, num_workers=NUM_WORKERS)\n",
    "\n",
    "len(train_dataloader), len(test_dataloader)"
   ]
  },
  {
   "cell_type": "code",
   "execution_count": 30,
   "metadata": {
    "execution": {
     "iopub.execute_input": "2025-06-27T07:50:12.696280Z",
     "iopub.status.busy": "2025-06-27T07:50:12.696065Z",
     "iopub.status.idle": "2025-06-27T07:50:12.707590Z",
     "shell.execute_reply": "2025-06-27T07:50:12.706985Z",
     "shell.execute_reply.started": "2025-06-27T07:50:12.696264Z"
    },
    "trusted": true
   },
   "outputs": [
    {
     "data": {
      "text/plain": [
       "90"
      ]
     },
     "execution_count": 30,
     "metadata": {},
     "output_type": "execute_result"
    }
   ],
   "source": [
    "len(class_names)"
   ]
  },
  {
   "cell_type": "code",
   "execution_count": 31,
   "metadata": {
    "execution": {
     "iopub.execute_input": "2025-06-27T07:50:12.708517Z",
     "iopub.status.busy": "2025-06-27T07:50:12.708272Z",
     "iopub.status.idle": "2025-06-27T07:50:12.804986Z",
     "shell.execute_reply": "2025-06-27T07:50:12.804198Z",
     "shell.execute_reply.started": "2025-06-27T07:50:12.708496Z"
    },
    "trusted": true
   },
   "outputs": [
    {
     "data": {
      "text/plain": [
       "============================================================================================================================================\n",
       "Layer (type (var_name))                                      Input Shape          Output Shape         Param #              Trainable\n",
       "============================================================================================================================================\n",
       "EfficientNet (EfficientNet)                                  [1, 3, 288, 288]     [1, 1000]            --                   True\n",
       "├─Sequential (features)                                      [1, 3, 288, 288]     [1, 1408, 9, 9]      --                   True\n",
       "│    └─Conv2dNormActivation (0)                              [1, 3, 288, 288]     [1, 32, 144, 144]    --                   True\n",
       "│    │    └─Conv2d (0)                                       [1, 3, 288, 288]     [1, 32, 144, 144]    864                  True\n",
       "│    │    └─BatchNorm2d (1)                                  [1, 32, 144, 144]    [1, 32, 144, 144]    64                   True\n",
       "│    │    └─SiLU (2)                                         [1, 32, 144, 144]    [1, 32, 144, 144]    --                   --\n",
       "│    └─Sequential (1)                                        [1, 32, 144, 144]    [1, 16, 144, 144]    --                   True\n",
       "│    │    └─MBConv (0)                                       [1, 32, 144, 144]    [1, 16, 144, 144]    1,448                True\n",
       "│    │    └─MBConv (1)                                       [1, 16, 144, 144]    [1, 16, 144, 144]    612                  True\n",
       "│    └─Sequential (2)                                        [1, 16, 144, 144]    [1, 24, 72, 72]      --                   True\n",
       "│    │    └─MBConv (0)                                       [1, 16, 144, 144]    [1, 24, 72, 72]      6,004                True\n",
       "│    │    └─MBConv (1)                                       [1, 24, 72, 72]      [1, 24, 72, 72]      10,710               True\n",
       "│    │    └─MBConv (2)                                       [1, 24, 72, 72]      [1, 24, 72, 72]      10,710               True\n",
       "│    └─Sequential (3)                                        [1, 24, 72, 72]      [1, 48, 36, 36]      --                   True\n",
       "│    │    └─MBConv (0)                                       [1, 24, 72, 72]      [1, 48, 36, 36]      16,518               True\n",
       "│    │    └─MBConv (1)                                       [1, 48, 36, 36]      [1, 48, 36, 36]      43,308               True\n",
       "│    │    └─MBConv (2)                                       [1, 48, 36, 36]      [1, 48, 36, 36]      43,308               True\n",
       "│    └─Sequential (4)                                        [1, 48, 36, 36]      [1, 88, 18, 18]      --                   True\n",
       "│    │    └─MBConv (0)                                       [1, 48, 36, 36]      [1, 88, 18, 18]      50,300               True\n",
       "│    │    └─MBConv (1)                                       [1, 88, 18, 18]      [1, 88, 18, 18]      123,750              True\n",
       "│    │    └─MBConv (2)                                       [1, 88, 18, 18]      [1, 88, 18, 18]      123,750              True\n",
       "│    │    └─MBConv (3)                                       [1, 88, 18, 18]      [1, 88, 18, 18]      123,750              True\n",
       "│    └─Sequential (5)                                        [1, 88, 18, 18]      [1, 120, 18, 18]     --                   True\n",
       "│    │    └─MBConv (0)                                       [1, 88, 18, 18]      [1, 120, 18, 18]     149,158              True\n",
       "│    │    └─MBConv (1)                                       [1, 120, 18, 18]     [1, 120, 18, 18]     237,870              True\n",
       "│    │    └─MBConv (2)                                       [1, 120, 18, 18]     [1, 120, 18, 18]     237,870              True\n",
       "│    │    └─MBConv (3)                                       [1, 120, 18, 18]     [1, 120, 18, 18]     237,870              True\n",
       "│    └─Sequential (6)                                        [1, 120, 18, 18]     [1, 208, 9, 9]       --                   True\n",
       "│    │    └─MBConv (0)                                       [1, 120, 18, 18]     [1, 208, 9, 9]       301,406              True\n",
       "│    │    └─MBConv (1)                                       [1, 208, 9, 9]       [1, 208, 9, 9]       686,868              True\n",
       "│    │    └─MBConv (2)                                       [1, 208, 9, 9]       [1, 208, 9, 9]       686,868              True\n",
       "│    │    └─MBConv (3)                                       [1, 208, 9, 9]       [1, 208, 9, 9]       686,868              True\n",
       "│    │    └─MBConv (4)                                       [1, 208, 9, 9]       [1, 208, 9, 9]       686,868              True\n",
       "│    └─Sequential (7)                                        [1, 208, 9, 9]       [1, 352, 9, 9]       --                   True\n",
       "│    │    └─MBConv (0)                                       [1, 208, 9, 9]       [1, 352, 9, 9]       846,900              True\n",
       "│    │    └─MBConv (1)                                       [1, 352, 9, 9]       [1, 352, 9, 9]       1,888,920            True\n",
       "│    └─Conv2dNormActivation (8)                              [1, 352, 9, 9]       [1, 1408, 9, 9]      --                   True\n",
       "│    │    └─Conv2d (0)                                       [1, 352, 9, 9]       [1, 1408, 9, 9]      495,616              True\n",
       "│    │    └─BatchNorm2d (1)                                  [1, 1408, 9, 9]      [1, 1408, 9, 9]      2,816                True\n",
       "│    │    └─SiLU (2)                                         [1, 1408, 9, 9]      [1, 1408, 9, 9]      --                   --\n",
       "├─AdaptiveAvgPool2d (avgpool)                                [1, 1408, 9, 9]      [1, 1408, 1, 1]      --                   --\n",
       "├─Sequential (classifier)                                    [1, 1408]            [1, 1000]            --                   True\n",
       "│    └─Dropout (0)                                           [1, 1408]            [1, 1408]            --                   --\n",
       "│    └─Linear (1)                                            [1, 1408]            [1, 1000]            1,409,000            True\n",
       "============================================================================================================================================\n",
       "Total params: 9,109,994\n",
       "Trainable params: 9,109,994\n",
       "Non-trainable params: 0\n",
       "Total mult-adds (Units.GIGABYTES): 1.09\n",
       "============================================================================================================================================\n",
       "Input size (MB): 1.00\n",
       "Forward/backward pass size (MB): 259.12\n",
       "Params size (MB): 36.44\n",
       "Estimated Total Size (MB): 296.56\n",
       "============================================================================================================================================"
      ]
     },
     "execution_count": 31,
     "metadata": {},
     "output_type": "execute_result"
    }
   ],
   "source": [
    "from torchinfo import summary\n",
    "\n",
    "summary(\n",
    "    model=model,\n",
    "    input_size=(1, 3, 288, 288),\n",
    "    col_names=['input_size', 'output_size', 'num_params', 'trainable'],\n",
    "    col_width=20,\n",
    "    row_settings=['var_names']\n",
    ")"
   ]
  },
  {
   "cell_type": "code",
   "execution_count": 32,
   "metadata": {
    "execution": {
     "iopub.execute_input": "2025-06-27T07:50:12.806060Z",
     "iopub.status.busy": "2025-06-27T07:50:12.805787Z",
     "iopub.status.idle": "2025-06-27T07:50:12.810531Z",
     "shell.execute_reply": "2025-06-27T07:50:12.809883Z",
     "shell.execute_reply.started": "2025-06-27T07:50:12.806038Z"
    },
    "trusted": true
   },
   "outputs": [],
   "source": [
    "for param in model.features.parameters():\n",
    "    param.requires_grad = False"
   ]
  },
  {
   "cell_type": "code",
   "execution_count": 33,
   "metadata": {
    "execution": {
     "iopub.execute_input": "2025-06-27T07:50:12.811406Z",
     "iopub.status.busy": "2025-06-27T07:50:12.811182Z",
     "iopub.status.idle": "2025-06-27T07:50:12.828123Z",
     "shell.execute_reply": "2025-06-27T07:50:12.827486Z",
     "shell.execute_reply.started": "2025-06-27T07:50:12.811386Z"
    },
    "trusted": true
   },
   "outputs": [
    {
     "data": {
      "text/plain": [
       "Sequential(\n",
       "  (0): Dropout(p=0.3, inplace=True)\n",
       "  (1): Linear(in_features=1408, out_features=1000, bias=True)\n",
       ")"
      ]
     },
     "execution_count": 33,
     "metadata": {},
     "output_type": "execute_result"
    }
   ],
   "source": [
    "model.classifier"
   ]
  },
  {
   "cell_type": "code",
   "execution_count": 34,
   "metadata": {
    "execution": {
     "iopub.execute_input": "2025-06-27T07:50:12.829022Z",
     "iopub.status.busy": "2025-06-27T07:50:12.828816Z",
     "iopub.status.idle": "2025-06-27T07:50:12.849767Z",
     "shell.execute_reply": "2025-06-27T07:50:12.849038Z",
     "shell.execute_reply.started": "2025-06-27T07:50:12.828997Z"
    },
    "trusted": true
   },
   "outputs": [
    {
     "data": {
      "text/plain": [
       "Sequential(\n",
       "  (0): Dropout(p=0.3, inplace=True)\n",
       "  (1): Linear(in_features=1408, out_features=90, bias=True)\n",
       ")"
      ]
     },
     "execution_count": 34,
     "metadata": {},
     "output_type": "execute_result"
    }
   ],
   "source": [
    "from torch import nn\n",
    "\n",
    "model.classifier = nn.Sequential(\n",
    "    nn.Dropout(p=0.3, inplace=True),\n",
    "    nn.Linear(in_features=1408, out_features=len(class_names), bias=True)\n",
    ")\n",
    "\n",
    "model.classifier"
   ]
  },
  {
   "cell_type": "code",
   "execution_count": 35,
   "metadata": {
    "execution": {
     "iopub.execute_input": "2025-06-27T07:50:12.850933Z",
     "iopub.status.busy": "2025-06-27T07:50:12.850678Z",
     "iopub.status.idle": "2025-06-27T07:50:12.947655Z",
     "shell.execute_reply": "2025-06-27T07:50:12.946901Z",
     "shell.execute_reply.started": "2025-06-27T07:50:12.850917Z"
    },
    "trusted": true
   },
   "outputs": [
    {
     "data": {
      "text/plain": [
       "============================================================================================================================================\n",
       "Layer (type (var_name))                                      Input Shape          Output Shape         Param #              Trainable\n",
       "============================================================================================================================================\n",
       "EfficientNet (EfficientNet)                                  [1, 3, 288, 288]     [1, 90]              --                   Partial\n",
       "├─Sequential (features)                                      [1, 3, 288, 288]     [1, 1408, 9, 9]      --                   False\n",
       "│    └─Conv2dNormActivation (0)                              [1, 3, 288, 288]     [1, 32, 144, 144]    --                   False\n",
       "│    │    └─Conv2d (0)                                       [1, 3, 288, 288]     [1, 32, 144, 144]    (864)                False\n",
       "│    │    └─BatchNorm2d (1)                                  [1, 32, 144, 144]    [1, 32, 144, 144]    (64)                 False\n",
       "│    │    └─SiLU (2)                                         [1, 32, 144, 144]    [1, 32, 144, 144]    --                   --\n",
       "│    └─Sequential (1)                                        [1, 32, 144, 144]    [1, 16, 144, 144]    --                   False\n",
       "│    │    └─MBConv (0)                                       [1, 32, 144, 144]    [1, 16, 144, 144]    (1,448)              False\n",
       "│    │    └─MBConv (1)                                       [1, 16, 144, 144]    [1, 16, 144, 144]    (612)                False\n",
       "│    └─Sequential (2)                                        [1, 16, 144, 144]    [1, 24, 72, 72]      --                   False\n",
       "│    │    └─MBConv (0)                                       [1, 16, 144, 144]    [1, 24, 72, 72]      (6,004)              False\n",
       "│    │    └─MBConv (1)                                       [1, 24, 72, 72]      [1, 24, 72, 72]      (10,710)             False\n",
       "│    │    └─MBConv (2)                                       [1, 24, 72, 72]      [1, 24, 72, 72]      (10,710)             False\n",
       "│    └─Sequential (3)                                        [1, 24, 72, 72]      [1, 48, 36, 36]      --                   False\n",
       "│    │    └─MBConv (0)                                       [1, 24, 72, 72]      [1, 48, 36, 36]      (16,518)             False\n",
       "│    │    └─MBConv (1)                                       [1, 48, 36, 36]      [1, 48, 36, 36]      (43,308)             False\n",
       "│    │    └─MBConv (2)                                       [1, 48, 36, 36]      [1, 48, 36, 36]      (43,308)             False\n",
       "│    └─Sequential (4)                                        [1, 48, 36, 36]      [1, 88, 18, 18]      --                   False\n",
       "│    │    └─MBConv (0)                                       [1, 48, 36, 36]      [1, 88, 18, 18]      (50,300)             False\n",
       "│    │    └─MBConv (1)                                       [1, 88, 18, 18]      [1, 88, 18, 18]      (123,750)            False\n",
       "│    │    └─MBConv (2)                                       [1, 88, 18, 18]      [1, 88, 18, 18]      (123,750)            False\n",
       "│    │    └─MBConv (3)                                       [1, 88, 18, 18]      [1, 88, 18, 18]      (123,750)            False\n",
       "│    └─Sequential (5)                                        [1, 88, 18, 18]      [1, 120, 18, 18]     --                   False\n",
       "│    │    └─MBConv (0)                                       [1, 88, 18, 18]      [1, 120, 18, 18]     (149,158)            False\n",
       "│    │    └─MBConv (1)                                       [1, 120, 18, 18]     [1, 120, 18, 18]     (237,870)            False\n",
       "│    │    └─MBConv (2)                                       [1, 120, 18, 18]     [1, 120, 18, 18]     (237,870)            False\n",
       "│    │    └─MBConv (3)                                       [1, 120, 18, 18]     [1, 120, 18, 18]     (237,870)            False\n",
       "│    └─Sequential (6)                                        [1, 120, 18, 18]     [1, 208, 9, 9]       --                   False\n",
       "│    │    └─MBConv (0)                                       [1, 120, 18, 18]     [1, 208, 9, 9]       (301,406)            False\n",
       "│    │    └─MBConv (1)                                       [1, 208, 9, 9]       [1, 208, 9, 9]       (686,868)            False\n",
       "│    │    └─MBConv (2)                                       [1, 208, 9, 9]       [1, 208, 9, 9]       (686,868)            False\n",
       "│    │    └─MBConv (3)                                       [1, 208, 9, 9]       [1, 208, 9, 9]       (686,868)            False\n",
       "│    │    └─MBConv (4)                                       [1, 208, 9, 9]       [1, 208, 9, 9]       (686,868)            False\n",
       "│    └─Sequential (7)                                        [1, 208, 9, 9]       [1, 352, 9, 9]       --                   False\n",
       "│    │    └─MBConv (0)                                       [1, 208, 9, 9]       [1, 352, 9, 9]       (846,900)            False\n",
       "│    │    └─MBConv (1)                                       [1, 352, 9, 9]       [1, 352, 9, 9]       (1,888,920)          False\n",
       "│    └─Conv2dNormActivation (8)                              [1, 352, 9, 9]       [1, 1408, 9, 9]      --                   False\n",
       "│    │    └─Conv2d (0)                                       [1, 352, 9, 9]       [1, 1408, 9, 9]      (495,616)            False\n",
       "│    │    └─BatchNorm2d (1)                                  [1, 1408, 9, 9]      [1, 1408, 9, 9]      (2,816)              False\n",
       "│    │    └─SiLU (2)                                         [1, 1408, 9, 9]      [1, 1408, 9, 9]      --                   --\n",
       "├─AdaptiveAvgPool2d (avgpool)                                [1, 1408, 9, 9]      [1, 1408, 1, 1]      --                   --\n",
       "├─Sequential (classifier)                                    [1, 1408]            [1, 90]              --                   True\n",
       "│    └─Dropout (0)                                           [1, 1408]            [1, 1408]            --                   --\n",
       "│    └─Linear (1)                                            [1, 1408]            [1, 90]              126,810              True\n",
       "============================================================================================================================================\n",
       "Total params: 7,827,804\n",
       "Trainable params: 126,810\n",
       "Non-trainable params: 7,700,994\n",
       "Total mult-adds (Units.GIGABYTES): 1.09\n",
       "============================================================================================================================================\n",
       "Input size (MB): 1.00\n",
       "Forward/backward pass size (MB): 259.12\n",
       "Params size (MB): 31.31\n",
       "Estimated Total Size (MB): 291.42\n",
       "============================================================================================================================================"
      ]
     },
     "execution_count": 35,
     "metadata": {},
     "output_type": "execute_result"
    }
   ],
   "source": [
    "summary(\n",
    "    model=model,\n",
    "    input_size=(1, 3, 288, 288),\n",
    "    col_names=['input_size', 'output_size', 'num_params', 'trainable'],\n",
    "    col_width=20,\n",
    "    row_settings=['var_names']\n",
    ")"
   ]
  },
  {
   "cell_type": "code",
   "execution_count": 36,
   "metadata": {
    "execution": {
     "iopub.execute_input": "2025-06-27T07:50:12.949224Z",
     "iopub.status.busy": "2025-06-27T07:50:12.948627Z",
     "iopub.status.idle": "2025-06-27T07:50:12.961017Z",
     "shell.execute_reply": "2025-06-27T07:50:12.960258Z",
     "shell.execute_reply.started": "2025-06-27T07:50:12.949205Z"
    },
    "trusted": true
   },
   "outputs": [],
   "source": [
    "\"\"\"\n",
    "Contains functions for training and testing a PyTorch model.\n",
    "\"\"\"\n",
    "import torch\n",
    "\n",
    "from tqdm.auto import tqdm\n",
    "from typing import Dict, List, Tuple\n",
    "\n",
    "def train_step(model: torch.nn.Module, \n",
    "               dataloader: torch.utils.data.DataLoader, \n",
    "               loss_fn: torch.nn.Module, \n",
    "               optimizer: torch.optim.Optimizer,\n",
    "               device: torch.device) -> Tuple[float, float]:\n",
    "    \"\"\"Trains a PyTorch model for a single epoch.\n",
    "\n",
    "    Turns a target PyTorch model to training mode and then\n",
    "    runs through all of the required training steps (forward\n",
    "    pass, loss calculation, optimizer step).\n",
    "\n",
    "    Args:\n",
    "    model: A PyTorch model to be trained.\n",
    "    dataloader: A DataLoader instance for the model to be trained on.\n",
    "    loss_fn: A PyTorch loss function to minimize.\n",
    "    optimizer: A PyTorch optimizer to help minimize the loss function.\n",
    "    device: A target device to compute on (e.g. \"cuda\" or \"cpu\").\n",
    "\n",
    "    Returns:\n",
    "    A tuple of training loss and training accuracy metrics.\n",
    "    In the form (train_loss, train_accuracy). For example:\n",
    "\n",
    "    (0.1112, 0.8743)\n",
    "    \"\"\"\n",
    "    # Put model in train mode\n",
    "    model.train()\n",
    "\n",
    "    # Setup train loss and train accuracy values\n",
    "    train_loss, train_acc = 0, 0\n",
    "\n",
    "    # Loop through data loader data batches\n",
    "    for batch, (X, y) in enumerate(dataloader):\n",
    "        # Send data to target device\n",
    "        X, y = X.to(device), y.to(device)\n",
    "\n",
    "        # 1. Forward pass\n",
    "        y_pred = model(X)\n",
    "\n",
    "        # 2. Calculate  and accumulate loss\n",
    "        loss = loss_fn(y_pred, y)\n",
    "        train_loss += loss.item() \n",
    "\n",
    "        # 3. Optimizer zero grad\n",
    "        optimizer.zero_grad()\n",
    "\n",
    "        # 4. Loss backward\n",
    "        loss.backward()\n",
    "\n",
    "        # 5. Optimizer step\n",
    "        optimizer.step()\n",
    "\n",
    "        # Calculate and accumulate accuracy metric across all batches\n",
    "        y_pred_class = torch.argmax(torch.softmax(y_pred, dim=1), dim=1)\n",
    "        train_acc += (y_pred_class == y).sum().item()/len(y_pred)\n",
    "\n",
    "    # Adjust metrics to get average loss and accuracy per batch \n",
    "    train_loss = train_loss / len(dataloader)\n",
    "    train_acc = train_acc / len(dataloader)\n",
    "    return train_loss, train_acc\n",
    "\n",
    "def test_step(model: torch.nn.Module, \n",
    "              dataloader: torch.utils.data.DataLoader, \n",
    "              loss_fn: torch.nn.Module,\n",
    "              device: torch.device) -> Tuple[float, float]:\n",
    "    \"\"\"Tests a PyTorch model for a single epoch.\n",
    "\n",
    "    Turns a target PyTorch model to \"eval\" mode and then performs\n",
    "    a forward pass on a testing dataset.\n",
    "\n",
    "    Args:\n",
    "    model: A PyTorch model to be tested.\n",
    "    dataloader: A DataLoader instance for the model to be tested on.\n",
    "    loss_fn: A PyTorch loss function to calculate loss on the test data.\n",
    "    device: A target device to compute on (e.g. \"cuda\" or \"cpu\").\n",
    "\n",
    "    Returns:\n",
    "    A tuple of testing loss and testing accuracy metrics.\n",
    "    In the form (test_loss, test_accuracy). For example:\n",
    "\n",
    "    (0.0223, 0.8985)\n",
    "    \"\"\"\n",
    "    # Put model in eval mode\n",
    "    model.eval() \n",
    "\n",
    "    # Setup test loss and test accuracy values\n",
    "    test_loss, test_acc = 0, 0\n",
    "\n",
    "    # Turn on inference context manager\n",
    "    with torch.inference_mode():\n",
    "        # Loop through DataLoader batches\n",
    "        for batch, (X, y) in enumerate(dataloader):\n",
    "            # Send data to target device\n",
    "            X, y = X.to(device), y.to(device)\n",
    "\n",
    "            # 1. Forward pass\n",
    "            test_pred_logits = model(X)\n",
    "\n",
    "            # 2. Calculate and accumulate loss\n",
    "            loss = loss_fn(test_pred_logits, y)\n",
    "            test_loss += loss.item()\n",
    "\n",
    "            # Calculate and accumulate accuracy\n",
    "            test_pred_labels = test_pred_logits.argmax(dim=1)\n",
    "            test_acc += ((test_pred_labels == y).sum().item()/len(test_pred_labels))\n",
    "\n",
    "    # Adjust metrics to get average loss and accuracy per batch \n",
    "    test_loss = test_loss / len(dataloader)\n",
    "    test_acc = test_acc / len(dataloader)\n",
    "    return test_loss, test_acc\n",
    "\n",
    "def train(model: torch.nn.Module, \n",
    "          train_dataloader: torch.utils.data.DataLoader, \n",
    "          test_dataloader: torch.utils.data.DataLoader, \n",
    "          optimizer: torch.optim.Optimizer,\n",
    "          loss_fn: torch.nn.Module,\n",
    "          epochs: int,\n",
    "          device: torch.device) -> Dict[str, List]:\n",
    "    \"\"\"Trains and tests a PyTorch model.\n",
    "\n",
    "    Passes a target PyTorch models through train_step() and test_step()\n",
    "    functions for a number of epochs, training and testing the model\n",
    "    in the same epoch loop.\n",
    "\n",
    "    Calculates, prints and stores evaluation metrics throughout.\n",
    "\n",
    "    Args:\n",
    "    model: A PyTorch model to be trained and tested.\n",
    "    train_dataloader: A DataLoader instance for the model to be trained on.\n",
    "    test_dataloader: A DataLoader instance for the model to be tested on.\n",
    "    optimizer: A PyTorch optimizer to help minimize the loss function.\n",
    "    loss_fn: A PyTorch loss function to calculate loss on both datasets.\n",
    "    epochs: An integer indicating how many epochs to train for.\n",
    "    device: A target device to compute on (e.g. \"cuda\" or \"cpu\").\n",
    "\n",
    "    Returns:\n",
    "    A dictionary of training and testing loss as well as training and\n",
    "    testing accuracy metrics. Each metric has a value in a list for \n",
    "    each epoch.\n",
    "    In the form: {train_loss: [...],\n",
    "              train_acc: [...],\n",
    "              test_loss: [...],\n",
    "              test_acc: [...]} \n",
    "    For example if training for epochs=2: \n",
    "             {train_loss: [2.0616, 1.0537],\n",
    "              train_acc: [0.3945, 0.3945],\n",
    "              test_loss: [1.2641, 1.5706],\n",
    "              test_acc: [0.3400, 0.2973]} \n",
    "    \"\"\"\n",
    "    # Create empty results dictionary\n",
    "    results = {\"train_loss\": [],\n",
    "               \"train_acc\": [],\n",
    "               \"test_loss\": [],\n",
    "               \"test_acc\": []\n",
    "    }\n",
    "    \n",
    "    # Make sure model on target device\n",
    "    model.to(device)\n",
    "\n",
    "    # Loop through training and testing steps for a number of epochs\n",
    "    for epoch in tqdm(range(epochs)):\n",
    "        train_loss, train_acc = train_step(model=model,\n",
    "                                          dataloader=train_dataloader,\n",
    "                                          loss_fn=loss_fn,\n",
    "                                          optimizer=optimizer,\n",
    "                                          device=device)\n",
    "        test_loss, test_acc = test_step(model=model,\n",
    "          dataloader=test_dataloader,\n",
    "          loss_fn=loss_fn,\n",
    "          device=device)\n",
    "\n",
    "        # Print out what's happening\n",
    "        print(\n",
    "          f\"Epoch: {epoch+1} | \"\n",
    "          f\"train_loss: {train_loss:.4f} | \"\n",
    "          f\"train_acc: {train_acc:.4f} | \"\n",
    "          f\"test_loss: {test_loss:.4f} | \"\n",
    "          f\"test_acc: {test_acc:.4f}\"\n",
    "        )\n",
    "\n",
    "        # Update results dictionary\n",
    "        results[\"train_loss\"].append(train_loss)\n",
    "        results[\"train_acc\"].append(train_acc)\n",
    "        results[\"test_loss\"].append(test_loss)\n",
    "        results[\"test_acc\"].append(test_acc)\n",
    "\n",
    "    # Return the filled results at the end of the epochs\n",
    "    return results\n"
   ]
  },
  {
   "cell_type": "code",
   "execution_count": 37,
   "metadata": {
    "execution": {
     "iopub.execute_input": "2025-06-27T07:50:12.962109Z",
     "iopub.status.busy": "2025-06-27T07:50:12.961797Z",
     "iopub.status.idle": "2025-06-27T07:50:12.981188Z",
     "shell.execute_reply": "2025-06-27T07:50:12.980599Z",
     "shell.execute_reply.started": "2025-06-27T07:50:12.962083Z"
    },
    "trusted": true
   },
   "outputs": [],
   "source": [
    "from torch import nn\n",
    "\n",
    "loss_fn = nn.CrossEntropyLoss()\n",
    "optimizer = torch.optim.Adam(model.parameters(), lr=0.001)"
   ]
  },
  {
   "cell_type": "code",
   "execution_count": 38,
   "metadata": {
    "execution": {
     "iopub.execute_input": "2025-06-27T07:50:12.981971Z",
     "iopub.status.busy": "2025-06-27T07:50:12.981813Z",
     "iopub.status.idle": "2025-06-27T07:58:00.898563Z",
     "shell.execute_reply": "2025-06-27T07:58:00.897601Z",
     "shell.execute_reply.started": "2025-06-27T07:50:12.981956Z"
    },
    "trusted": true
   },
   "outputs": [
    {
     "data": {
      "application/vnd.jupyter.widget-view+json": {
       "model_id": "f519cc28f73a4d7eadd2c5a2156a2765",
       "version_major": 2,
       "version_minor": 0
      },
      "text/plain": [
       "  0%|          | 0/10 [00:00<?, ?it/s]"
      ]
     },
     "metadata": {},
     "output_type": "display_data"
    },
    {
     "name": "stdout",
     "output_type": "stream",
     "text": [
      "Epoch: 1 | train_loss: 2.3174 | train_acc: 0.6718 | test_loss: 0.9822 | test_acc: 0.9048\n",
      "Epoch: 2 | train_loss: 0.6577 | train_acc: 0.9066 | test_loss: 0.5205 | test_acc: 0.9207\n",
      "Epoch: 3 | train_loss: 0.4054 | train_acc: 0.9327 | test_loss: 0.3953 | test_acc: 0.9349\n",
      "Epoch: 4 | train_loss: 0.2948 | train_acc: 0.9474 | test_loss: 0.3239 | test_acc: 0.9447\n",
      "Epoch: 5 | train_loss: 0.2316 | train_acc: 0.9625 | test_loss: 0.2730 | test_acc: 0.9459\n",
      "Epoch: 6 | train_loss: 0.2002 | train_acc: 0.9665 | test_loss: 0.2438 | test_acc: 0.9531\n",
      "Epoch: 7 | train_loss: 0.1628 | train_acc: 0.9765 | test_loss: 0.2176 | test_acc: 0.9591\n",
      "Epoch: 8 | train_loss: 0.1394 | train_acc: 0.9808 | test_loss: 0.2151 | test_acc: 0.9543\n",
      "Epoch: 9 | train_loss: 0.1230 | train_acc: 0.9834 | test_loss: 0.2185 | test_acc: 0.9481\n",
      "Epoch: 10 | train_loss: 0.1078 | train_acc: 0.9847 | test_loss: 0.1917 | test_acc: 0.9567\n",
      "[INFO] Total training time: 467.899 seconds\n"
     ]
    }
   ],
   "source": [
    "torch.manual_seed(42)\n",
    "torch.cuda.manual_seed(42)\n",
    "\n",
    "from timeit import default_timer as timer\n",
    "start_time = timer()\n",
    "\n",
    "results = train(\n",
    "    model=model,\n",
    "    train_dataloader=train_dataloader,\n",
    "    test_dataloader=test_dataloader,\n",
    "    loss_fn=loss_fn,\n",
    "    optimizer=optimizer,\n",
    "    epochs=10,\n",
    "    device=device\n",
    ")\n",
    "\n",
    "end_time = timer()\n",
    "print(f'[INFO] Total training time: {end_time-start_time:.3f} seconds')"
   ]
  },
  {
   "cell_type": "code",
   "execution_count": 39,
   "metadata": {
    "execution": {
     "iopub.execute_input": "2025-06-27T08:03:32.665962Z",
     "iopub.status.busy": "2025-06-27T08:03:32.665202Z",
     "iopub.status.idle": "2025-06-27T08:03:32.762051Z",
     "shell.execute_reply": "2025-06-27T08:03:32.761269Z",
     "shell.execute_reply.started": "2025-06-27T08:03:32.665930Z"
    },
    "trusted": true
   },
   "outputs": [],
   "source": [
    "torch.save(model.state_dict(), \"animals_model_weights.pth\")"
   ]
  },
  {
   "cell_type": "code",
   "execution_count": null,
   "metadata": {
    "trusted": true
   },
   "outputs": [],
   "source": []
  }
 ],
 "metadata": {
  "kaggle": {
   "accelerator": "gpu",
   "dataSources": [
    {
     "datasetId": 1554380,
     "isSourceIdPinned": false,
     "sourceId": 3952946,
     "sourceType": "datasetVersion"
    }
   ],
   "dockerImageVersionId": 31041,
   "isGpuEnabled": true,
   "isInternetEnabled": true,
   "language": "python",
   "sourceType": "notebook"
  },
  "kernelspec": {
   "display_name": "Python 3",
   "language": "python",
   "name": "python3"
  },
  "language_info": {
   "codemirror_mode": {
    "name": "ipython",
    "version": 3
   },
   "file_extension": ".py",
   "mimetype": "text/x-python",
   "name": "python",
   "nbconvert_exporter": "python",
   "pygments_lexer": "ipython3",
   "version": "3.11.11"
  }
 },
 "nbformat": 4,
 "nbformat_minor": 4
}
